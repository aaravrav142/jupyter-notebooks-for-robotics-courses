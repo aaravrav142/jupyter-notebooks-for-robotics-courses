{
 "cells": [
  {
   "cell_type": "markdown",
   "metadata": {},
   "source": [
    "# Exercise 8.1 Potential Fields\n",
    "\n",
    "## Theoretical background\n",
    "\n",
    "The motion planning problem consists in deciding a set of movements that allow the robot to complete a given task.\n",
    "In the real world this is complicated by various factors, e.g. the geometry of the robot, the variability of the obstacles, the non-holonomic constraints of the movement, etc.\n",
    "\n",
    "Motion planning can be divided further into two paralel problems:\n",
    "\n",
    "- **Global navigation**: Which uses the available map to find the a sequence of movements to achieve one's goal.\n",
    "- **Local reactive navigation**: Which uses sensor information to avoid the obstacles in its path, even those which don't appear in the map.\n",
    "\n",
    "In this exercise, we will deal with a simplified version of the latter. For this endeavor, we ask you to complete the following algorithm based on the Potential Fields method. This algorithm computes an *attractive force* towards the goal and a *repulsive force* against the obstacles.\n",
    "\n",
    "In our demo, we create a random map full of obstacles, then you ought to click the starting position of a robot, and a goal position, then the robot will navigate according your implementation of the algorithm. Then you just have to enjoy watching how the robot moves!"
   ]
  },
  {
   "cell_type": "code",
   "execution_count": null,
   "metadata": {},
   "outputs": [],
   "source": [
    "# IMPORTS\n",
    "import numpy as np\n",
    "from numpy import random\n",
    "from scipy import linalg\n",
    "import matplotlib\n",
    "matplotlib.use('TkAgg')\n",
    "from matplotlib import pyplot as plt\n",
    "\n",
    "from utils.DrawRobot import DrawRobot"
   ]
  },
  {
   "cell_type": "markdown",
   "metadata": {},
   "source": [
    "## 1. Implementation.\n",
    "\n",
    "- 1.1 Implement the computation of the Repulsive Force `FRep`, which is the sum of the repulsive forces yielded by each obstacle close to the object. Recall that forces are 2-elements vectors. Plot a marker over the obstacles that has influence on this force, and store the handler of that plot in `hInfluentialObstacles`.\n",
    "\n",
    "<img src=\"images/fig8-1-1.png\" width=\"700\">"
   ]
  },
  {
   "cell_type": "code",
   "execution_count": null,
   "metadata": {},
   "outputs": [],
   "source": [
    "def repulsive_force(xRobot, Map, RadiusOfInfluence, KObstacles):\n",
    "    q = xRobot - Map\n",
    "    r = np.sqrt(np.sum(q**2, axis=0))\n",
    "    iInfluential = np.where(r < RadiusOfInfluence)[0]\n",
    "    \n",
    "    raise NotImplementedError\n",
    "    \n",
    "    if iInfluential.shape[0] > 0:\n",
    "        # TODO\n",
    "        pass\n",
    "    else:\n",
    "        #TODO\n",
    "        pass\n",
    "    \n",
    "    return FRep, hInfluentialObstacles"
   ]
  },
  {
   "cell_type": "markdown",
   "metadata": {},
   "source": [
    "- 1.2 Compute the Attractive Force `FAtt`. Normalize the resultant Force by $||\\Delta_{goal}||$."
   ]
  },
  {
   "cell_type": "code",
   "execution_count": null,
   "metadata": {},
   "outputs": [],
   "source": [
    "def attractive_force(KGoal, GoalError):\n",
    "    # TODO\n",
    "    raise NotImplementedError"
   ]
  },
  {
   "cell_type": "markdown",
   "metadata": {},
   "source": [
    "- 1.3 Compute the Total Force `FTotal`in the main program below."
   ]
  },
  {
   "cell_type": "code",
   "execution_count": null,
   "metadata": {},
   "outputs": [],
   "source": [
    "def main(nObstacles=175,\n",
    "         MapSize=100,\n",
    "         RadiusOfInfluence=10,\n",
    "         KGoal=1,\n",
    "         KObstacles=250,\n",
    "         nMaxSteps=300,\n",
    "         NON_STOP=True):\n",
    "    \n",
    "    Map = MapSize*random.rand(2, nObstacles)\n",
    "    \n",
    "    fig, ax = plt.subplots()\n",
    "    plt.ion()\n",
    "    ax.plot(Map[0,:],Map[1,:],'ro', fillstyle='none');\n",
    "    \n",
    "    fig.suptitle('Click to choose starting point:')\n",
    "    xStart = np.vstack(plt.ginput(1)).T\n",
    "    print('Starts at:\\n{}'.format(xStart))\n",
    "    \n",
    "    \n",
    "    fig.suptitle('Click to choose end goal:')\n",
    "    xGoal = np.vstack(plt.ginput(1)).T\n",
    "    print('Goal at:\\n{}'.format(xGoal))\n",
    "\n",
    "    fig.suptitle('')\n",
    "\n",
    "    ax.plot(xGoal[0, 0], xGoal[1, 0],'g*', markersize=10)\n",
    "    \n",
    "    hRob = DrawRobot(fig, ax, np.vstack([xStart, 0]), axis_percent=0.001, color='blue')\n",
    "    \n",
    "    # Initialization of useful vbles\n",
    "    xRobot = xStart\n",
    "    GoalError = xRobot - xGoal\n",
    "    \n",
    "    # Simulation\n",
    "    k = 0\n",
    "\n",
    "    while linalg.norm(GoalError) > 1 and k < nMaxSteps:\n",
    "\n",
    "        FRep, hInfluentialObstacles = repulsive_force(xRobot, Map, RadiusOfInfluence, KObstacles)\n",
    "        FAtt = attractive_force(KGoal, GoalError)\n",
    "                \n",
    "        # Point 1.3\n",
    "        # TODO Compute total (attractive+repulsive) potential field\n",
    "        \n",
    "        raise NotImplementedError\n",
    "        FTotal = None\n",
    "        #FTotal /= linalg.norm(FTotal)\n",
    "        \n",
    "        xRobot += FTotal\n",
    "        Theta = np.arctan2(FTotal[1, 0], FTotal[0, 0])\n",
    "        \n",
    "        hRob.pop(0).remove()\n",
    "        hRob = DrawRobot(fig, ax, np.vstack([xRobot, Theta]), axis_percent=0.001, color='blue')\n",
    "        \n",
    "        if NON_STOP:\n",
    "            plt.pause(0.1)\n",
    "        else:\n",
    "            plt.waitforbuttonpress(-1)\n",
    "            \n",
    "        if hInfluentialObstacles is not None:\n",
    "            hInfluentialObstacles.pop(0).remove()\n",
    "        \n",
    "        # Update termination conditions\n",
    "        GoalError =  xRobot - xGoal\n",
    "        k += 1"
   ]
  },
  {
   "cell_type": "markdown",
   "metadata": {},
   "source": [
    "## 2. Understanding what’s going on.\n",
    "\n",
    "- 2.1 Explain the meaning of each element appearing in the plot during the simulation of the Potential Fields reactive navigation.\n",
    "\n",
    "<figure style=\"text-align:center\">\n",
    "  <img src=\"images/fig8-1-2.png\" width=\"400\" alt=\"\">\n",
    "  <figcaption>\n",
    "      Fig. 2: Execution of potential fields. <br/>\n",
    "      It shows the robots pose and trace (in blue), <br/>\n",
    "      obstacles (in red), influence (crossed-out obstacles), <br/>\n",
    "      and a goal (in green)\n",
    "  </figcaption>\n",
    "</figure>"
   ]
  },
  {
   "cell_type": "markdown",
   "metadata": {},
   "source": [
    "- 2.2 Run the program setting different start and goal positions. Now change the values of the goal and obstacle gains (`KGoal` and `KObstacles`). How does this affect the paths followed by the robot?\n",
    "\n",
    "  <table>\n",
    "    <tr>\n",
    "        <td><img src=\"images/fig8-1-3.png\" width=\"300\"></td>\n",
    "        <td><img src=\"images/fig8-1-4.png\" width=\"300\"></td>\n",
    "    </tr>\n",
    "  </table>"
   ]
  },
  {
   "cell_type": "code",
   "execution_count": null,
   "metadata": {},
   "outputs": [],
   "source": [
    "#main(KGoal=1, KObstacles=250)"
   ]
  },
  {
   "cell_type": "markdown",
   "metadata": {},
   "source": [
    "- 2.3 Play with different numbers of obstacles and discuss the obtained results."
   ]
  },
  {
   "cell_type": "code",
   "execution_count": null,
   "metadata": {},
   "outputs": [],
   "source": [
    "#main(nObstacles=175)"
   ]
  },
  {
   "cell_type": "markdown",
   "metadata": {},
   "source": [
    "- 2.4. Illustrate a navigation where the robot doesn’t reach the goal position in the specified number of steps. Why did that happen? Could the robot have reached the goal with more iterations of the algorithm? Hint: take a look at the FTotal variable."
   ]
  },
  {
   "cell_type": "code",
   "execution_count": null,
   "metadata": {},
   "outputs": [],
   "source": []
  }
 ],
 "metadata": {
  "kernelspec": {
   "display_name": "Python 3",
   "language": "python",
   "name": "python3"
  },
  "language_info": {
   "codemirror_mode": {
    "name": "ipython",
    "version": 3
   },
   "file_extension": ".py",
   "mimetype": "text/x-python",
   "name": "python",
   "nbconvert_exporter": "python",
   "pygments_lexer": "ipython3",
   "version": "3.6.7"
  }
 },
 "nbformat": 4,
 "nbformat_minor": 2
}
